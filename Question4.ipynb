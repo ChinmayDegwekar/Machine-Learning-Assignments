{
 "cells": [
  {
   "cell_type": "code",
   "execution_count": 1,
   "metadata": {},
   "outputs": [
    {
     "name": "stdout",
     "output_type": "stream",
     "text": [
      "(100, 2) (100, 1)\n"
     ]
    }
   ],
   "source": [
    "import numpy as np\n",
    "\n",
    "x_file = open(\"q4x.dat\",\"r\")\n",
    "\n",
    "x0_list=[]\n",
    "x1_list=[]\n",
    "\n",
    "\n",
    "for line in x_file:\n",
    "    x0_list.append(float(line.split(\" \")[0]))\n",
    "    x1_list.append(float(line.split(\" \")[2].split(\"\\n\")[0]))\n",
    "    #print(line.split(\" \")[2])\n",
    "\n",
    "    \n",
    "\n",
    "#print(x0_list,x1_list)\n",
    "\n",
    "x0_vec = np.array([ x0_list ]).T\n",
    "x1_vec = np.array([ x1_list ]).T\n",
    "\n",
    "x_vec = x0_vec\n",
    "x_vec = np.append(x_vec,x1_vec, axis = 1)\n",
    "\n",
    "y_list=[]\n",
    "\n",
    "y_file = open(\"q4y.dat\",\"r\")\n",
    "for line in y_file:\n",
    "    class_type = line.split(\"\\n\")[0]\n",
    "    #print(line.split(\"\\n\")[0])\n",
    "    if  \"Alaska\" in class_type:\n",
    "        y_list.append(0)\n",
    "    else:\n",
    "        y_list.append(1)\n",
    "\n",
    "#print(y_list)      \n",
    "y_vec = np.array([ y_list ]).T\n",
    "\n",
    "print(x_vec.shape,y_vec.shape)"
   ]
  },
  {
   "cell_type": "code",
   "execution_count": 2,
   "metadata": {},
   "outputs": [
    {
     "name": "stdout",
     "output_type": "stream",
     "text": [
      "117.92 398.14\n"
     ]
    }
   ],
   "source": [
    "#Normalizing X feature\n",
    "\n",
    "x0_mean = np.mean(x_vec[:,0:1])\n",
    "x1_mean = np.mean(x_vec[:,1:2])\n",
    "print(x0_mean,x1_mean)\n",
    "#print(x_vec[:,1:2])\n",
    "\n",
    "x0_std = np.std(x_vec[:,0:1])\n",
    "x1_std = np.std(x_vec[:,1:2])\n",
    "\n",
    "\n",
    "x_vec[:,0:1] = (x_vec[:,0:1] - x0_mean)/x0_std \n",
    "x_vec[:,1:2] = (x_vec[:,1:2] - x1_mean)/x1_std \n",
    "\n",
    "# print(x_vec[:4])"
   ]
  },
  {
   "cell_type": "code",
   "execution_count": 3,
   "metadata": {},
   "outputs": [
    {
     "name": "stdout",
     "output_type": "stream",
     "text": [
      "phi 0.5\n",
      "mu_0 [[-0.75529433]\n",
      " [ 0.68509431]]\n",
      "mu_1 [[ 0.75529433]\n",
      " [-0.68509431]]\n"
     ]
    }
   ],
   "source": [
    "# Alaska : 0         Canada : 1\n",
    "\n",
    "m = len(x_vec)\n",
    "\n",
    "phi = y_vec.T @ y_vec / m\n",
    "phi = phi[0][0]\n",
    "print(\"phi\",phi)\n",
    "\n",
    "mu_0 = ((1-y_vec.T) @ x_vec).T\n",
    "label_1 =  (y_vec.T @ y_vec)\n",
    "num_one_class = label_1[0][0]\n",
    "num_zero_class = m - num_one_class\n",
    "mu_0 = mu_0/ num_zero_class\n",
    "print(\"mu_0\",mu_0)\n",
    "\n",
    "mu_1 = ((y_vec.T) @ x_vec).T\n",
    "\n",
    "mu_1 = mu_1/ num_one_class\n",
    "print(\"mu_1\",mu_1)\n",
    "\n",
    "\n",
    "\n",
    "    \n",
    "\n"
   ]
  },
  {
   "cell_type": "code",
   "execution_count": 4,
   "metadata": {},
   "outputs": [
    {
     "name": "stdout",
     "output_type": "stream",
     "text": [
      "[[-0.38344523]\n",
      " [-0.65509969]]\n",
      "sigma [[ 0.42953048 -0.02247228]\n",
      " [-0.02247228  0.53064579]]\n"
     ]
    }
   ],
   "source": [
    "\n",
    "temp = np.zeros((x_vec.shape[1],x_vec.shape[1]))\n",
    "print(x_vec[0].reshape(2,1))\n",
    "for i in range(m):\n",
    "    #print((y_vec[i] * mu_0).shape)\n",
    "    #print( ( x_vec[i].reshape(2,1) -  ( y_vec[i] * mu_1 + (1-y_vec[i])*mu_0) ) )\n",
    "    temp+= ( x_vec[i].reshape(2,1) -  ( y_vec[i] * mu_1 + (1-y_vec[i])*mu_0) ) @ ( x_vec[i].reshape(2,1) -  ( y_vec[i] * mu_1 + (1-y_vec[i])*mu_0) ).T\n",
    "    \n",
    "sigma = temp/m\n",
    "print(\"sigma\",sigma)\n",
    "\n",
    "\n",
    "\n"
   ]
  },
  {
   "cell_type": "code",
   "execution_count": 5,
   "metadata": {},
   "outputs": [],
   "source": [
    "# Plotting data\n",
    "\n",
    "import matplotlib.pyplot as plt\n",
    "\n"
   ]
  },
  {
   "cell_type": "code",
   "execution_count": null,
   "metadata": {},
   "outputs": [],
   "source": [
    "\n"
   ]
  },
  {
   "cell_type": "code",
   "execution_count": 6,
   "metadata": {},
   "outputs": [
    {
     "data": {
      "text/plain": [
       "<matplotlib.legend.Legend at 0xbd2c790>"
      ]
     },
     "execution_count": 6,
     "metadata": {},
     "output_type": "execute_result"
    },
    {
     "data": {
      "image/png": "[encoded data removed]",
      "text/plain": [
       "<Figure size 432x288 with 1 Axes>"
      ]
     },
     "metadata": {
      "needs_background": "light"
     },
     "output_type": "display_data"
    }
   ],
   "source": [
    "x0_class0 = x_vec[:50,0]\n",
    "x1_class0 = x_vec[:50,1]\n",
    "\n",
    "x0_class1 = x_vec[50:100,0]\n",
    "x1_class1 = x_vec[50:100,1]\n",
    "\n",
    "\n",
    "plt.scatter(x0_class0,x1_class0,label=\"Alaska\",color='blue')\n",
    "plt.scatter(x0_class1,x1_class1,label=\"Canada\",color = 'orange')\n",
    "plt.ylim(-3,3)\n",
    "plt.xlabel(\"x1\")\n",
    "plt.ylabel(\"x2\")\n",
    "plt.legend()\n",
    "\n"
   ]
  },
  {
   "cell_type": "code",
   "execution_count": 7,
   "metadata": {},
   "outputs": [
    {
     "name": "stdout",
     "output_type": "stream",
     "text": [
      "[[ 1.11022302e-15]\n",
      " [ 3.38925452e+00]\n",
      " [-2.43858399e+00]]\n"
     ]
    }
   ],
   "source": [
    "import math\n",
    "#real value\n",
    "\n",
    "sigma_inv = np.linalg.inv(sigma)\n",
    "\n",
    "theta_0 =  math.log(phi/(1-phi)) -1/2.0*( mu_1.T@ sigma_inv@mu_1 - mu_0.T@ sigma_inv@mu_0  )\n",
    "\n",
    "theta_1_2 = sigma_inv @ mu_1 - sigma_inv @ mu_0\n",
    "\n",
    "theta = np.append(theta_0,theta_1_2,axis = 0)\n",
    "print(theta)\n",
    "\n"
   ]
  },
  {
   "cell_type": "code",
   "execution_count": 8,
   "metadata": {},
   "outputs": [
    {
     "data": {
      "text/plain": [
       "<matplotlib.legend.Legend at 0xbd9b750>"
      ]
     },
     "execution_count": 8,
     "metadata": {},
     "output_type": "execute_result"
    },
    {
     "data": {
      "image/png": "[encoded data removed]",
      "text/plain": [
       "<Figure size 432x288 with 1 Axes>"
      ]
     },
     "metadata": {
      "needs_background": "light"
     },
     "output_type": "display_data"
    }
   ],
   "source": [
    "\n",
    "x_axis = np.linspace(-3,3,100)\n",
    "\n",
    "slope = - theta[1]/theta[2]\n",
    "intercept = -theta[0]/theta[2]\n",
    "y_axis = slope*x_axis + intercept\n",
    "\n",
    "plt.scatter(x0_class0,x1_class0,label=\"Alaska\",color='blue')\n",
    "plt.scatter(x0_class1,x1_class1,label=\"Canada\",color = 'orange')\n",
    "plt.plot(x_axis, y_axis, '-r', label='linear hypo')\n",
    "plt.ylim(-3,3)\n",
    "plt.xlabel(\"x1\")\n",
    "plt.ylabel(\"x2\")\n",
    "plt.legend()"
   ]
  },
  {
   "cell_type": "code",
   "execution_count": 9,
   "metadata": {},
   "outputs": [
    {
     "name": "stdout",
     "output_type": "stream",
     "text": [
      "[[-0.38344523]\n",
      " [-0.65509969]]\n",
      "[[-0.38344523]\n",
      " [-0.65509969]]\n",
      "[[ 0.38158978 -0.15486516]\n",
      " [-0.15486516  0.64773717]]\n",
      "[[0.47747117 0.1099206 ]\n",
      " [0.1099206  0.41355441]]\n"
     ]
    }
   ],
   "source": [
    "\n",
    "\n",
    "temp = np.zeros((x_vec.shape[1],x_vec.shape[1]))\n",
    "print(x_vec[0].reshape(2,1))\n",
    "for i in range(m):\n",
    "    #print((y_vec[i] * mu_0).shape)\n",
    "    #print( ( x_vec[i].reshape(2,1) -  ( y_vec[i] * mu_1 + (1-y_vec[i])*mu_0) ) )\n",
    "    temp+= ( 1-y_vec[i] )*( x_vec[i].reshape(2,1) -  ( y_vec[i] * mu_1 + (1-y_vec[i])*mu_0) ) @ ( x_vec[i].reshape(2,1) -  ( y_vec[i] * mu_1 + (1-y_vec[i])*mu_0) ).T\n",
    "    \n",
    "sigma_0 = temp/num_zero_class\n",
    "\n",
    "\n",
    "temp = np.zeros((x_vec.shape[1],x_vec.shape[1]))\n",
    "print(x_vec[0].reshape(2,1))\n",
    "for i in range(m):\n",
    "    #print((y_vec[i] * mu_0).shape)\n",
    "    #print( ( x_vec[i].reshape(2,1) -  ( y_vec[i] * mu_1 + (1-y_vec[i])*mu_0) ) )\n",
    "    temp+= ( y_vec[i] )*( x_vec[i].reshape(2,1) -  ( y_vec[i] * mu_1 + (1-y_vec[i])*mu_0) ) @ ( x_vec[i].reshape(2,1) -  ( y_vec[i] * mu_1 + (1-y_vec[i])*mu_0) ).T\n",
    "    \n",
    "sigma_1 = temp/num_one_class\n",
    "\n",
    "print(sigma_0)\n",
    "print(sigma_1)"
   ]
  },
  {
   "cell_type": "code",
   "execution_count": 10,
   "metadata": {},
   "outputs": [
    {
     "name": "stdout",
     "output_type": "stream",
     "text": [
      "[[ 0.3356739   0.64341817]\n",
      " [ 0.64341817 -0.43296599]]\n",
      "3.8078531935404865\n",
      "[[-0.49198061]]\n"
     ]
    }
   ],
   "source": [
    "# Quadaratic equations finding coeffients of ax^2 + bx + c = 0\n",
    "\n",
    "sigma_0_inv = np.linalg.inv(sigma_0)\n",
    "sigma_1_inv = np.linalg.inv(sigma_1)\n",
    "\n",
    "# 2x2\n",
    "alpha = -(1/2.0)*( sigma_1_inv - sigma_0_inv )\n",
    "\n",
    "# 2x1\n",
    "beta = sigma_1_inv @ mu_1 - sigma_0_inv @ mu_0\n",
    "\n",
    "\n",
    "sigma_0_det = np.linalg.det(sigma_0)\n",
    "sigma_1_det = np.linalg.det(sigma_1)\n",
    "\n",
    "# 1x1\n",
    "gamma = (-1/2.0)*( mu_1.T@sigma_1_inv@mu_1  -  mu_0.T@sigma_0_inv@mu_0 ) +  math.log(phi/(1-phi)) + math.log( sigma_0_det/sigma_1_det )\n",
    "\n",
    "print(alpha)\n",
    "print(beta[0][0])\n",
    "print(gamma)\n",
    "\n",
    "\n"
   ]
  },
  {
   "cell_type": "code",
   "execution_count": 12,
   "metadata": {},
   "outputs": [
    {
     "data": {
      "text/plain": [
       "<matplotlib.legend.Legend at 0xbdf1170>"
      ]
     },
     "execution_count": 12,
     "metadata": {},
     "output_type": "execute_result"
    },
    {
     "data": {
      "image/png": "[encoded data removed]",
      "text/plain": [
       "<Figure size 432x288 with 1 Axes>"
      ]
     },
     "metadata": {
      "needs_background": "light"
     },
     "output_type": "display_data"
    }
   ],
   "source": [
    "x1 = np.linspace(-3,3,100)\n",
    "\n",
    "\n",
    "A = alpha[1][1]\n",
    "\n",
    "B = ( alpha[0][1] + alpha[1][0] )*x1 + beta[1][0]\n",
    "\n",
    "\n",
    "C = alpha[0][0]*(x1.T*x1) + beta[0][0]*x1 + gamma[0][0]\n",
    "\n",
    "\n",
    "x2 =[]\n",
    "\n",
    "for i, x_val in enumerate(x1):\n",
    "    x2.append( (-B[i] - math.sqrt( B[i]*B[i] - 4*A*C[i] ))/( 2*A ) )\n",
    "    \n",
    "x2 = np.array(x2)\n",
    "\n",
    "\n",
    "#x2 = (-B + math.sqrt( B*B - 4*A*C ))/( 2*A )\n",
    "\n",
    "plt.scatter(x0_class0,x1_class0,label=\"Alaska\",color='blue')\n",
    "plt.scatter(x0_class1,x1_class1,label=\"Canada\",color = 'orange')\n",
    "plt.plot(x_axis, y_axis, '-r', label='linear')\n",
    "plt.plot(x1, x2, '-g', label='Quadratic')\n",
    "plt.ylim(-3,3)\n",
    "plt.xlabel(\"x1\")\n",
    "plt.ylabel(\"x2\")\n",
    "plt.legend()"
   ]
  },
  {
   "cell_type": "code",
   "execution_count": null,
   "metadata": {},
   "outputs": [],
   "source": []
  }
 ],
 "metadata": {
  "kernelspec": {
   "display_name": "Python 3",
   "language": "python",
   "name": "python3"
  },
  "language_info": {
   "codemirror_mode": {
    "name": "ipython",
    "version": 3
   },
   "file_extension": ".py",
   "mimetype": "text/x-python",
   "name": "python",
   "nbconvert_exporter": "python",
   "pygments_lexer": "ipython3",
   "version": "3.5.2"
  }
 },
 "nbformat": 4,
 "nbformat_minor": 4
}
