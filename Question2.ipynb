{
 "cells": [
  {
   "cell_type": "code",
   "execution_count": null,
   "metadata": {},
   "outputs": [],
   "source": [
    "#Question2 on Stochastic gradient descent\n",
    "\n",
    "#Part A : Data sampling\n",
    "\n",
    "import numpy as np\n",
    "import matplotlib.pyplot as plt\n",
    "import scipy.stats as stats\n",
    "\n",
    "# this is how data can be generated\n",
    "mean =10\n",
    "std = 1\n",
    "data_sample = np.random.normal(mean,std,1000)\n",
    "print(data_sample)\n",
    "count, bins, ignored = plt.hist(data_sample, 50, normed=True) \n",
    "print(count)\n",
    "print(bins)\n",
    "print(ignored)\n",
    "plt.plot(bins, 1/(std * np.sqrt(2 * np.pi)) *\n",
    "          np.exp( - (bins - mean)**2 / (2 * std**2) ), \n",
    "          linewidth=2, color='r') \n",
    "plt.show() "
   ]
  },
  {
   "cell_type": "code",
   "execution_count": 76,
   "metadata": {},
   "outputs": [],
   "source": [
    "# Data generated here\n",
    "\n",
    "# million data points normally distributed\n",
    "data_size = int(1e6)\n",
    "x1_list = np.random.normal(3,np.sqrt(4),data_size)\n",
    "x2_list = np.random.normal(-1,np.sqrt(4),data_size)\n",
    "noise_list = np.random.normal(0,np.sqrt(2),data_size)\n",
    "\n",
    "\n",
    "# x1_list = sorted(x1_list,key=float)\n",
    "# pdf1 = stats.norm.pdf(x1_list,3,2)\n",
    "# x2_list = sorted(x2_list,key=float)\n",
    "# pdf2 = stats.norm.pdf(x2_list,-1,2)\n",
    "# noise_list = sorted(noise_list,key=float)\n",
    "# pdf3 = stats.norm.pdf(noise_list,0,np.sqrt(2))\n",
    "\n",
    "\n",
    "# plt.plot(x1_list,pdf1)\n",
    "# plt.plot(x2_list,pdf2)\n",
    "# plt.plot(noise_list,pdf3)\n",
    "\n"
   ]
  },
  {
   "cell_type": "code",
   "execution_count": 102,
   "metadata": {},
   "outputs": [
    {
     "name": "stdout",
     "output_type": "stream",
     "text": [
      "[[-0.62324854]\n",
      " [ 4.73572159]\n",
      " [ 1.09200893]\n",
      " [ 6.22454544]\n",
      " [ 6.81606075]\n",
      " [ 4.39982253]\n",
      " [ 1.24803291]\n",
      " [ 4.50595067]\n",
      " [ 4.41934529]\n",
      " [ 3.49732497]]\n"
     ]
    },
    {
     "name": "stderr",
     "output_type": "stream",
     "text": [
      "c:\\users\\chinmay\\appdata\\local\\programs\\python\\python35-32\\lib\\site-packages\\matplotlib\\axes\\_axes.py:6521: MatplotlibDeprecationWarning: \n",
      "The 'normed' kwarg was deprecated in Matplotlib 2.1 and will be removed in 3.1. Use 'density' instead.\n",
      "  alternative=\"'density'\", removal=\"3.1\")\n"
     ]
    },
    {
     "data": {
      "image/png": "[encoded data removed]",
      "text/plain": [
       "<Figure size 432x288 with 1 Axes>"
      ]
     },
     "metadata": {
      "needs_background": "light"
     },
     "output_type": "display_data"
    }
   ],
   "source": [
    "# given theta_vector and x1 and x2 vectors , lets try to see the distribution of yi with error vector \n",
    "\n",
    "# 3x1\n",
    "theta = np.array([[ 3,1,2 ]])\n",
    "theta = theta.T\n",
    "\n",
    "# mx1\n",
    "epsilon = np.array([noise_list])\n",
    "epsilon = epsilon.T           \n",
    "\n",
    "# method to add rows in matrix\n",
    "#theta = np.vstack((theta,np.array([[4]])))\n",
    "#theta.shape\n",
    "\n",
    "\n",
    "# mx3\n",
    "x_vector = np.array([[ 1,x1_list[0], x2_list[0] ]])\n",
    "\n",
    "# takes a lot of time to append for million data points\n",
    "#--------------------------------------\n",
    "# for i in range(len(x1_list)-1):\n",
    "#     new_sample = np.array([[ 1 , x1_list[i+1], x2_list[i+1]    ]])\n",
    "#     x_vector = np.vstack( ( x_vector , new_sample ) )\n",
    "\n",
    "# print(x_vector.shape)    \n",
    "\n",
    "# y_vector = np.matmul(x_vector,theta) + epsilon\n",
    "#-----------------------------------------------------\n",
    "\n",
    "\n",
    "\n",
    "# approach 2, still takes time but lesser\n",
    "# y_list =[]\n",
    "# for i in range(len(x1_list)):\n",
    "#     y_list.append(  theta[0][0]*1 + theta[1][0]*x1_list[i] + theta[2][0]*x2_list[i] + epsilon[i][0]   )\n",
    "\n",
    "# y_vector = np.array([y_list])\n",
    "# y_vector = y_vector.T\n",
    "#--------------------------------------------------------------------\n",
    "\n",
    "\n",
    "#Approach3 : column appending\n",
    "\n",
    "x_vector = np.ones((int(1e6),1))\n",
    "\n",
    "x1_vector = np.array([x1_list])\n",
    "x1_vector = x1_vector.T\n",
    "\n",
    "x2_vector = np.array([x2_list])\n",
    "x2_vector = x2_vector.T\n",
    "\n",
    "x_vector = np.append( x_vector, x1_vector,axis = 1 )\n",
    "\n",
    "x_vector = np.append( x_vector, x2_vector,axis = 1 )\n",
    "y_vector = np.matmul(x_vector,theta) + epsilon\n",
    "\n",
    "\n",
    "\n",
    "\n",
    "print(y_vector[:10])\n",
    "\n",
    "\n",
    "mean = np.mean(y_vector)\n",
    "std = np.std(y_vector)\n",
    "\n",
    "count, bins, ignored = plt.hist(y_vector, 50, normed=True) \n",
    "# print(count)\n",
    "# print(bins)\n",
    "# print(ignored)\n",
    "plt.plot(bins, 1/(std * np.sqrt(2 * np.pi)) *\n",
    "          np.exp( - (bins - mean)**2 / (2 * std**2) ), \n",
    "          linewidth=2, color='r') \n",
    "plt.show() \n",
    "# it also seems to follow normal distribution with mean (theta.T*X)\n"
   ]
  },
  {
   "cell_type": "code",
   "execution_count": 69,
   "metadata": {},
   "outputs": [
    {
     "data": {
      "text/plain": [
       "3"
      ]
     },
     "execution_count": 69,
     "metadata": {},
     "output_type": "execute_result"
    }
   ],
   "source": []
  }
 ],
 "metadata": {
  "kernelspec": {
   "display_name": "Python 3",
   "language": "python",
   "name": "python3"
  },
  "language_info": {
   "codemirror_mode": {
    "name": "ipython",
    "version": 3
   },
   "file_extension": ".py",
   "mimetype": "text/x-python",
   "name": "python",
   "nbconvert_exporter": "python",
   "pygments_lexer": "ipython3",
   "version": "3.5.2"
  }
 },
 "nbformat": 4,
 "nbformat_minor": 4
}
