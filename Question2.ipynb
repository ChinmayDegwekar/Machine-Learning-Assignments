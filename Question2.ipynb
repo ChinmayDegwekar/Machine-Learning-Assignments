{
 "cells": [
  {
   "cell_type": "code",
   "execution_count": null,
   "metadata": {},
   "outputs": [],
   "source": [
    "#Question2 on Stochastic gradient descent\n",
    "\n",
    "#Part A : Data sampling\n",
    "\n",
    "import numpy as np\n",
    "import matplotlib.pyplot as plt\n",
    "import scipy.stats as stats\n",
    "\n",
    "# this is how data can be generated\n",
    "mean =10\n",
    "std = 1\n",
    "data_sample = np.random.normal(mean,std,1000)\n",
    "print(data_sample)\n",
    "count, bins, ignored = plt.hist(data_sample, 50, normed=True) \n",
    "print(count)\n",
    "print(bins)\n",
    "print(ignored)\n",
    "plt.plot(bins, 1/(std * np.sqrt(2 * np.pi)) *\n",
    "          np.exp( - (bins - mean)**2 / (2 * std**2) ), \n",
    "          linewidth=2, color='r') \n",
    "plt.show() "
   ]
  },
  {
   "cell_type": "code",
   "execution_count": null,
   "metadata": {},
   "outputs": [],
   "source": [
    "# Data generated here\n",
    "\n",
    "# million data points normally distributed\n",
    "data_size = int(1e6)\n",
    "m = data_size\n",
    "x1_list = np.random.normal(3,np.sqrt(4),data_size)\n",
    "x2_list = np.random.normal(-1,np.sqrt(4),data_size)\n",
    "noise_list = np.random.normal(0,np.sqrt(2),data_size)\n",
    "print(noise_list[:10])\n",
    "\n",
    "# x1_list = sorted(x1_list,key=float)\n",
    "# pdf1 = stats.norm.pdf(x1_list,3,2)\n",
    "# x2_list = sorted(x2_list,key=float)\n",
    "# pdf2 = stats.norm.pdf(x2_list,-1,2)\n",
    "# noise_list = sorted(noise_list,key=float)\n",
    "# pdf3 = stats.norm.pdf(noise_list,0,np.sqrt(2))\n",
    "\n",
    "\n",
    "# plt.plot(x1_list,pdf1)\n",
    "# plt.plot(x2_list,pdf2)\n",
    "# plt.plot(noise_list,pdf3)\n",
    "\n"
   ]
  },
  {
   "cell_type": "code",
   "execution_count": 3,
   "metadata": {},
   "outputs": [
    {
     "name": "stdout",
     "output_type": "stream",
     "text": [
      "[[ 2.45720149]\n",
      " [ 2.77971911]\n",
      " [-0.74885672]\n",
      " [ 0.31852988]\n",
      " [10.09127105]\n",
      " [ 2.08003186]\n",
      " [-2.28325881]\n",
      " [ 2.04952251]\n",
      " [ 7.78019075]\n",
      " [10.3896374 ]]\n"
     ]
    },
    {
     "data": {
      "image/png": "[encoded data removed]",
      "text/plain": [
       "<Figure size 432x288 with 1 Axes>"
      ]
     },
     "metadata": {
      "needs_background": "light"
     },
     "output_type": "display_data"
    }
   ],
   "source": [
    "# given theta_vector and x1 and x2 vectors , lets try to see the distribution of yi with error vector \n",
    "\n",
    "# 3x1\n",
    "theta = np.array([[ 3,1,2 ]])\n",
    "theta = theta.T\n",
    "\n",
    "# mx1\n",
    "epsilon = np.array([noise_list])\n",
    "epsilon = epsilon.T           \n",
    "\n",
    "# method to add rows in matrix\n",
    "#theta = np.vstack((theta,np.array([[4]])))\n",
    "#theta.shape\n",
    "\n",
    "\n",
    "# mx3\n",
    "x_vector = np.array([[ 1,x1_list[0], x2_list[0] ]])\n",
    "\n",
    "# takes a lot of time to append for million data points\n",
    "#--------------------------------------\n",
    "# for i in range(len(x1_list)-1):\n",
    "#     new_sample = np.array([[ 1 , x1_list[i+1], x2_list[i+1]    ]])\n",
    "#     x_vector = np.vstack( ( x_vector , new_sample ) )\n",
    "\n",
    "# print(x_vector.shape)    \n",
    "\n",
    "# y_vector = np.matmul(x_vector,theta) + epsilon\n",
    "#-----------------------------------------------------\n",
    "\n",
    "\n",
    "\n",
    "# approach 2, still takes time but lesser\n",
    "# y_list =[]\n",
    "# for i in range(len(x1_list)):\n",
    "#     y_list.append(  theta[0][0]*1 + theta[1][0]*x1_list[i] + theta[2][0]*x2_list[i] + epsilon[i][0]   )\n",
    "\n",
    "# y_vector = np.array([y_list])\n",
    "# y_vector = y_vector.T\n",
    "#--------------------------------------------------------------------\n",
    "\n",
    "\n",
    "#Approach3 : column appending\n",
    "\n",
    "x_vector = np.ones((int(1e6),1))\n",
    "\n",
    "x1_vector = np.array([x1_list])\n",
    "x1_vector = x1_vector.T\n",
    "\n",
    "x2_vector = np.array([x2_list])\n",
    "x2_vector = x2_vector.T\n",
    "\n",
    "x_vector = np.append( x_vector, x1_vector,axis = 1 )\n",
    "\n",
    "x_vector = np.append( x_vector, x2_vector,axis = 1 )\n",
    "y_vector = np.matmul(x_vector,theta) + epsilon\n",
    "\n",
    "\n",
    "\n",
    "\n",
    "print(y_vector[:10])\n",
    "\n",
    "\n",
    "mean = np.mean(y_vector)\n",
    "std = np.std(y_vector)\n",
    "\n",
    "count, bins, ignored = plt.hist(y_vector, 50, normed=True) \n",
    "# print(count)\n",
    "# print(bins)\n",
    "# print(ignored)\n",
    "plt.plot(bins, 1/(std * np.sqrt(2 * np.pi)) *\n",
    "          np.exp( - (bins - mean)**2 / (2 * std**2) ), \n",
    "          linewidth=2, color='r') \n",
    "plt.show() \n",
    "# it also seems to follow normal distribution with mean (theta.T*X)\n"
   ]
  },
  {
   "cell_type": "code",
   "execution_count": 24,
   "metadata": {},
   "outputs": [],
   "source": [
    "def grad_J_theta(x_vec,y_vec,theta):  # X : mx3   ,  Y : mx1   , theta : 3x1\n",
    "    \n",
    "    abs_error =  y_vec - x_vec @ theta\n",
    "    #print(abs_error)\n",
    "    delta = abs_error.T @ x_vec     # matrix multiplication summation happening here\n",
    "    delta = delta.T\n",
    "    cost = (1.0/(2*len(x_vec)))* ( abs_error.T @ abs_error  )\n",
    "    cost = cost[0][0]\n",
    "    return cost , delta/len(x_vec)\n",
    "    \n"
   ]
  },
  {
   "cell_type": "code",
   "execution_count": 62,
   "metadata": {},
   "outputs": [],
   "source": [
    "#------------------------ STOCHASTIC GRADIENT DESCENT--------------------------------------------------\n",
    "\n",
    "# x_vector  : mx3\n",
    "# y_vector  : mx1\n",
    "\n",
    "#Initialize theta\n",
    "theta = np.zeros(3).reshape(3,1)\n",
    "\n",
    "batch_size = 100\n",
    "learning_rate = 0.001\n",
    "total_batches = m//batch_size     # to handle boundry case\n",
    "\n",
    "#Shuffle the data\n",
    "x_y_vector = np.append(x_vector,y_vector,axis = 1)\n",
    "np.random.shuffle(x_y_vector)          # taking time\n",
    "\n",
    "\n",
    "\n",
    "    \n"
   ]
  },
  {
   "cell_type": "code",
   "execution_count": null,
   "metadata": {},
   "outputs": [],
   "source": [
    "# Shuffled vectors\n",
    "x_vector = x_y_vector[:,:3]\n",
    "y_vector = x_y_vector[:,3:4]\n",
    "\n",
    "# print(x_vector[:10],y_vector[:10])\n",
    "\n",
    "b=0\n",
    "xb = x_vector[ b*batch_size : (b+1)*batch_size ]\n",
    "yb = y_vector[ b*batch_size : (b+1)*batch_size ]\n",
    "\n",
    "prev_cost, delta  =  grad_J_theta(xb,yb,theta)\n",
    "#  print(prev_cost,delta)\n",
    "theta += learning_rate*delta\n",
    "curr_cost, delta  =  grad_J_theta(xb,yb,theta)\n",
    "print(prev_cost-curr_cost)\n",
    "for i in range(1000):\n",
    "    \n",
    "    if abs(prev_cost - curr_cost) < 1e-10:\n",
    "        break\n",
    "    for b in range(total_batches):\n",
    "        # batch number b's data\n",
    "        if abs(prev_cost - curr_cost) < 1e-10:\n",
    "            break\n",
    "        xb = x_vector[ b*batch_size : (b+1)*batch_size ]\n",
    "        yb = y_vector[ b*batch_size : (b+1)*batch_size ]\n",
    "        \n",
    "        prev_cost = curr_cost\n",
    "        \n",
    "        theta += learning_rate* delta\n",
    "        curr_cost, delta = grad_J_theta(xb,yb,theta) \n",
    "        #print(b,prev_cost,curr_cost)\n",
    "        print(theta.T)\n",
    "        \n",
    "        \n",
    "        "
   ]
  },
  {
   "cell_type": "code",
   "execution_count": null,
   "metadata": {},
   "outputs": [],
   "source": [
    "cost ,k  = grad_J_theta(x_vector[:5],y_vector[:5],np.zeros(3).reshape(3,1))\n",
    "print(cost,k)"
   ]
  },
  {
   "cell_type": "code",
   "execution_count": 54,
   "metadata": {},
   "outputs": [
    {
     "data": {
      "text/plain": [
       "array([[2.99825526],\n",
       "       [1.00069258],\n",
       "       [2.00005029]])"
      ]
     },
     "execution_count": 54,
     "metadata": {},
     "output_type": "execute_result"
    }
   ],
   "source": [
    "theta"
   ]
  },
  {
   "cell_type": "code",
   "execution_count": null,
   "metadata": {},
   "outputs": [],
   "source": []
  }
 ],
 "metadata": {
  "kernelspec": {
   "display_name": "Python 3",
   "language": "python",
   "name": "python3"
  },
  "language_info": {
   "codemirror_mode": {
    "name": "ipython",
    "version": 3
   },
   "file_extension": ".py",
   "mimetype": "text/x-python",
   "name": "python",
   "nbconvert_exporter": "python",
   "pygments_lexer": "ipython3",
   "version": "3.5.2"
  }
 },
 "nbformat": 4,
 "nbformat_minor": 4
}
