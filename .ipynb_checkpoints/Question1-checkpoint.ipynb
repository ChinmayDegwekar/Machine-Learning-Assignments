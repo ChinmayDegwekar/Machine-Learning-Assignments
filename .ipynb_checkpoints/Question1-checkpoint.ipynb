{
 "cells": [
  {
   "cell_type": "code",
   "execution_count": null,
   "metadata": {},
   "outputs": [],
   "source": [
    "import numpy as np\n",
    "import matplotlib.pyplot as plt\n",
    "import math"
   ]
  },
  {
   "cell_type": "code",
   "execution_count": null,
   "metadata": {},
   "outputs": [],
   "source": [
    "linearX = open(\"linearX.csv\",\"r\")\n",
    "X_list=[]\n",
    "for line in linearX:\n",
    "    #print(float(line.split(\"\\n\")[0]))    \n",
    "    X_list.append(float(line.split(\"\\n\")[0]))\n",
    "print(X_list)\n",
    "\n",
    "linearY = open(\"linearY.csv\",\"r\")\n",
    "Y_list=[]\n",
    "for line in linearY:\n",
    "    #print(float(line.split(\"\\n\")[0]))    \n",
    "    Y_list.append(float(line.split(\"\\n\")[0]))\n",
    "#print(Y_list)"
   ]
  },
  {
   "cell_type": "code",
   "execution_count": null,
   "metadata": {},
   "outputs": [],
   "source": [
    "#Normalizing X feature\n",
    "\n",
    "sum = 0\n",
    "for i in range(len(X_list)):\n",
    "    sum+= X_list[i]\n",
    "mean = sum/len(X_list)    \n",
    "print(mean)\n",
    "temp = 0\n",
    "for i in range(len(X_list)):\n",
    "    temp+=(X_list[i]-mean)**2\n",
    "variance = temp/len(X_list)    \n",
    "print(variance)\n",
    "std = math.sqrt(variance)\n",
    "print(std)\n",
    "\n",
    "for i in range(len(X_list)):\n",
    "    X_list[i]=(X_list[i] - mean)/std\n",
    "\n",
    "print(X_list)\n"
   ]
  },
  {
   "cell_type": "code",
   "execution_count": null,
   "metadata": {},
   "outputs": [],
   "source": [
    "plt.scatter(X_list,Y_list)\n"
   ]
  },
  {
   "cell_type": "code",
   "execution_count": null,
   "metadata": {},
   "outputs": [],
   "source": [
    "x_vec = np.array([X_list])\n",
    "x_vec = np.transpose(x_vec)\n",
    "#print(x_vec)\n",
    "print(x_vec[1])"
   ]
  },
  {
   "cell_type": "code",
   "execution_count": null,
   "metadata": {},
   "outputs": [],
   "source": [
    "#Initializing theta and x vector\n",
    "theta = np.array([[0.,0.]]) \n",
    "theta = np.transpose(theta)\n",
    "\n",
    "x_i = np.array([[1,x_vec[0]]])\n",
    "x_i = np.transpose(x_i)\n",
    "print(theta.shape,x_i.shape)"
   ]
  },
  {
   "cell_type": "code",
   "execution_count": null,
   "metadata": {},
   "outputs": [],
   "source": [
    "def hypo_xi(theta,x_vec):\n",
    "    result = np.dot(theta.T,x_vec)\n",
    "    #print(result[0][0])\n",
    "    return result[0][0]"
   ]
  },
  {
   "cell_type": "code",
   "execution_count": null,
   "metadata": {},
   "outputs": [],
   "source": [
    "hypo_xi(theta,x_i)"
   ]
  },
  {
   "cell_type": "code",
   "execution_count": null,
   "metadata": {},
   "outputs": [],
   "source": [
    "def grad_J_theta(X_list,Y_list,theta):\n",
    "    result = np.zeros((2,1))\n",
    "    for i in range(len(X_list)):\n",
    "        x_i = np.array([[1,X_list[i]]])\n",
    "        x_i = np.transpose(x_i)\n",
    "        result[0] += np.array(  [ (Y_list[i]-  hypo_xi(theta, x_i ))*1   ]  ) # expected real value in square braces\n",
    "        result[1] += np.array(  [ (Y_list[i]-  hypo_xi(theta, x_i ))*X_list[i]  ]  ) # expected real value in square braces\n",
    "        \n",
    "    return result/len(X_list)\n",
    "    \n",
    "    \n",
    "    "
   ]
  },
  {
   "cell_type": "code",
   "execution_count": null,
   "metadata": {},
   "outputs": [],
   "source": [
    "grad_J_theta(X_list,Y_list,theta)"
   ]
  },
  {
   "cell_type": "code",
   "execution_count": null,
   "metadata": {},
   "outputs": [],
   "source": [
    "def cost(X_list,Y_list,theta):\n",
    "    result = 0\n",
    "    for i in range(len(X_list)):\n",
    "        x_i = np.array([[1,X_list[i]]])\n",
    "        x_i = np.transpose(x_i)\n",
    "        result+= (Y_list[i]-  hypo_xi(theta, x_i ))**2\n",
    "    return result/(2*len(X_list))"
   ]
  },
  {
   "cell_type": "code",
   "execution_count": null,
   "metadata": {},
   "outputs": [],
   "source": [
    "cost(X_list,Y_list,theta)"
   ]
  },
  {
   "cell_type": "code",
   "execution_count": null,
   "metadata": {
    "scrolled": true
   },
   "outputs": [],
   "source": [
    "\n",
    "# for i in range(10000):\n",
    "#     theta += 0.01*grad_J_theta(X_list,Y_list,theta)\n",
    "    \n",
    "#     #print(theta)\n",
    "#     print(cost(X_list,Y_list,theta))\n",
    "  \n",
    "learning_rate = 0.1\n",
    "prev_cost = cost(X_list,Y_list,theta)\n",
    "theta += learning_rate*grad_J_theta(X_list,Y_list,theta)\n",
    "curr_cost = cost(X_list,Y_list,theta)\n",
    "\n",
    "print(curr_cost,prev_cost,curr_cost - prev_cost)\n",
    "count =0\n",
    "\n",
    "while  True:\n",
    "    if prev_cost - curr_cost < 1e-16:\n",
    "        break\n",
    "    \n",
    "    theta += learning_rate*grad_J_theta(X_list,Y_list,theta)\n",
    "    count +=1\n",
    "    #print(theta)\n",
    "    prev_cost = curr_cost\n",
    "    curr_cost = cost(X_list,Y_list,theta)\n",
    "    print(cost(X_list,Y_list,theta),prev_cost - curr_cost)\n",
    "print(count) \n",
    "    \n",
    "# prev_theta = theta\n",
    "# theta += 0.01*grad_J_theta(X_list,Y_list,theta)\n",
    "# print(prev_theta,theta)\n",
    "# count = 0\n",
    "# while not(np.allclose(theta,prev_theta,atol=1e-6)):\n",
    "#     theta += 0.01*grad_J_theta(X_list,Y_list,theta)\n",
    "#     count +=1\n",
    "#     print(theta)\n",
    "#     prev_theta = theta\n",
    "#     print(cost(X_list,Y_list,theta))\n",
    "# print(count)    "
   ]
  },
  {
   "cell_type": "code",
   "execution_count": null,
   "metadata": {},
   "outputs": [],
   "source": [
    "print(theta)"
   ]
  },
  {
   "cell_type": "code",
   "execution_count": null,
   "metadata": {},
   "outputs": [],
   "source": [
    "# linearX = open(\"linearX.csv\",\"r\")\n",
    "# X_list=[]\n",
    "# for line in linearX:\n",
    "#     #print(float(line.split(\"\\n\")[0]))    \n",
    "#     X_list.append(float(line.split(\"\\n\")[0]))\n",
    "\n",
    "print(X_list)\n",
    "x_0 = np.array([[1,X_list[0]]])\n",
    "x_0 = np.transpose(x_0)\n",
    "x_1 = np.array([[1,X_list[1]]])\n",
    "x_1 = np.transpose(x_1)\n",
    "x1 , y1 = X_list[0], hypo_xi(theta,x_0)\n",
    "x2 , y2 = X_list[1], hypo_xi(theta,x_1)\n",
    "\n",
    "hypo_xi(theta,x_i)\n",
    "\n",
    "\n",
    "\n",
    "x1, y1 = [X_list[0], X_list[1]], [hypo_xi(theta,x_0), hypo_xi(theta,x_1)]\n",
    "#plt.plot(x1,y1)\n",
    "\n",
    "prediction =[]\n",
    "for x in X_list:\n",
    "    x_i = np.array([[1,x]])\n",
    "    x_i = np.transpose(x_i)\n",
    "    prediction.append(hypo_xi(theta,x_i))\n",
    "print(cost(X_list,Y_list,theta))\n",
    "print(Y_list)\n",
    "print(prediction)\n",
    "                      \n",
    "                      \n",
    "#axes = plt.gca()\n",
    "\n",
    "#axes.set_ylim([0.990,1.003])                     \n",
    "plt.scatter(X_list,Y_list)\n",
    "plt.scatter(X_list,prediction)"
   ]
  },
  {
   "cell_type": "code",
   "execution_count": null,
   "metadata": {},
   "outputs": [],
   "source": [
    "print(theta)"
   ]
  },
  {
   "cell_type": "code",
   "execution_count": null,
   "metadata": {},
   "outputs": [],
   "source": [
    "def f(x, y):\n",
    "    return np.sin(np.sqrt(x ** 2 + y ** 2))\n",
    "\n",
    "x = np.linspace(-6, 6, 30)\n",
    "y = np.linspace(-6, 6, 30)\n",
    "\n",
    "X, Y = np.meshgrid(x, y)\n",
    "Z = f(X, Y)\n",
    "fig = plt.figure()\n",
    "ax = plt.axes(projection='3d')\n",
    "ax.contour3D(X, Y, Z, 50, cmap='binary')\n",
    "ax.set_xlabel('x')\n",
    "ax.set_ylabel('y')\n",
    "ax.set_zlabel('z');"
   ]
  }
 ],
 "metadata": {
  "kernelspec": {
   "display_name": "Python 3",
   "language": "python",
   "name": "python3"
  },
  "language_info": {
   "codemirror_mode": {
    "name": "ipython",
    "version": 3
   },
   "file_extension": ".py",
   "mimetype": "text/x-python",
   "name": "python",
   "nbconvert_exporter": "python",
   "pygments_lexer": "ipython3",
   "version": "3.5.2"
  }
 },
 "nbformat": 4,
 "nbformat_minor": 4
}
