{
 "cells": [
  {
   "cell_type": "code",
   "execution_count": 1,
   "metadata": {},
   "outputs": [
    {
     "name": "stdout",
     "output_type": "stream",
     "text": [
      "(100, 3) (100, 1)\n"
     ]
    }
   ],
   "source": [
    "import numpy as np\n",
    "\n",
    "#Importing data\n",
    "logistic_y = open(\"logisticY.csv\",\"r\")\n",
    "y_list=[]\n",
    "for line in logistic_y:\n",
    "    #print(float(line.split(\"\\n\")[0]))    \n",
    "    y_list.append(float(line.split(\"\\n\")[0]))\n",
    "    \n",
    "#print(y_list)  \n",
    "\n",
    "y_vec = np.array([ y_list ]).T\n",
    "#print(y_vec,y_vec.shape)\n",
    "\n",
    "\n",
    "logistic_x = open(\"logisticX.csv\",\"r\")\n",
    "\n",
    "x0_list=[]\n",
    "x1_list=[]\n",
    "x2_list=[]\n",
    "\n",
    "for line in logistic_x:\n",
    "    x1 = float(line.split(\",\")[0])\n",
    "    x2 = float(line.split(\",\")[1].split(\"\\n\")[0])\n",
    "    x0_list.append(1.0)\n",
    "    x1_list.append(x1)\n",
    "    x2_list.append(x2)\n",
    "    #x1_list.append(li)\n",
    "    #y_list.append(float(line.split(\"\\n\")[0]))\n",
    "\n",
    "#print(x1_list,x2_list)    \n",
    "\n",
    "\n",
    "\n",
    "x0_vec = np.array([ x0_list ]).T\n",
    "x1_vec = np.array([ x1_list ]).T\n",
    "x2_vec = np.array([ x2_list ]).T\n",
    "    \n",
    "x_vec = x0_vec\n",
    "x_vec = np.append(x_vec,x1_vec, axis = 1)\n",
    "x_vec = np.append(x_vec,x2_vec, axis = 1)\n",
    "print(x_vec.shape,y_vec.shape)\n",
    "# x vector and y vector is ready    "
   ]
  },
  {
   "cell_type": "code",
   "execution_count": 2,
   "metadata": {},
   "outputs": [
    {
     "name": "stdout",
     "output_type": "stream",
     "text": [
      "4.618717 4.522868\n",
      "[[ 1.         -0.55136993 -0.22518431]\n",
      " [ 1.         -0.70429721  1.50106918]\n",
      " [ 1.         -1.39690538  2.15030658]\n",
      " [ 1.         -1.14109148  0.9007805 ]]\n"
     ]
    }
   ],
   "source": [
    "#Normalizing X feature\n",
    "\n",
    "x1_mean = np.mean(x_vec[:,1:2])\n",
    "x2_mean = np.mean(x_vec[:,2:3])\n",
    "print(x1_mean,x2_mean)\n",
    "#print(x_vec[:,1:2])\n",
    "\n",
    "x1_std = np.std(x_vec[:,1:2])\n",
    "x2_std = np.std(x_vec[:,2:3])\n",
    "\n",
    "\n",
    "x_vec[:,1:2] = (x_vec[:,1:2] - x1_mean)/x1_std \n",
    "x_vec[:,2:3] = (x_vec[:,2:3] - x2_mean)/x2_std \n",
    "\n",
    "print(x_vec[:4])\n",
    "# sum = 0\n",
    "# for i in range(len(X_list)):\n",
    "#     sum+= X_list[i]\n",
    "# mean = sum/len(X_list)    \n",
    "# print(mean)\n",
    "# temp = 0\n",
    "# for i in range(len(X_list)):\n",
    "#     temp+=(X_list[i]-mean)**2\n",
    "# variance = temp/len(X_list)    \n",
    "# print(variance)\n",
    "# std = math.sqrt(variance)\n",
    "# print(std)\n",
    "\n",
    "# for i in range(len(X_list)):\n",
    "#     X_list[i]=(X_list[i] - mean)/std\n",
    "\n",
    "# print(X_list)"
   ]
  },
  {
   "cell_type": "code",
   "execution_count": 3,
   "metadata": {},
   "outputs": [
    {
     "name": "stdout",
     "output_type": "stream",
     "text": [
      "(3, 1)\n"
     ]
    }
   ],
   "source": [
    "#theta initialization\n",
    "theta = np.array([[0,0,0 ]])\n",
    "theta = theta.T\n",
    "print(theta.shape)"
   ]
  },
  {
   "cell_type": "code",
   "execution_count": 4,
   "metadata": {},
   "outputs": [
    {
     "name": "stdout",
     "output_type": "stream",
     "text": [
      "[[ 3.71828183]\n",
      " [ 8.3890561 ]\n",
      " [21.08553692]]\n"
     ]
    }
   ],
   "source": [
    "vector  = np.array([[1,2,3]]).T\n",
    "print(np.exp(vector)+1)"
   ]
  },
  {
   "cell_type": "code",
   "execution_count": 5,
   "metadata": {},
   "outputs": [
    {
     "name": "stdout",
     "output_type": "stream",
     "text": [
      "[[-1.        ]\n",
      " [-0.5       ]\n",
      " [-0.33333333]]\n"
     ]
    }
   ],
   "source": [
    "vector  = np.array([[1.0,2.0,3.0]]).T \n",
    "print(np.reciprocal(-vector))"
   ]
  },
  {
   "cell_type": "code",
   "execution_count": 6,
   "metadata": {},
   "outputs": [],
   "source": [
    "def hypo(x_vec,theta):      # returns hypo vector : sigmoid of theta transpose x\n",
    "    theta_x = x_vec @ theta\n",
    "    #print(theta_x)\n",
    "    expo_term = np.exp(-theta_x)\n",
    "    #print(expo_term)\n",
    "    denominator = 1 + expo_term\n",
    "    result = np.reciprocal(denominator)\n",
    "    \n",
    "    return result\n"
   ]
  },
  {
   "cell_type": "code",
   "execution_count": 7,
   "metadata": {},
   "outputs": [],
   "source": [
    "def grad_J_theta(x_vec,y_vec,theta):  # X : mx3   ,  Y : mx1   , theta : 3x1   returns 3x1\n",
    "    \n",
    "    abs_error =  y_vec - hypo(x_vec,theta)\n",
    "    #print(abs_error)\n",
    "    delta = abs_error.T @ x_vec     # matrix multiplication summation happening here\n",
    "    delta = delta.T\n",
    "    cost = (1.0/(2*len(x_vec)))* ( abs_error.T @ abs_error  )\n",
    "    cost = cost[0][0]\n",
    "    return delta\n",
    "\n",
    "\n"
   ]
  },
  {
   "cell_type": "code",
   "execution_count": 8,
   "metadata": {},
   "outputs": [],
   "source": [
    "def hessian(x_vec,y_vec,theta):\n",
    "    \n",
    "    list1 = hypo(x_vec,theta) * ( 1-hypo(x_vec,theta))\n",
    "    #print(list1)\n",
    "    diag = np.diagflat(list1)\n",
    "    hess = (-1) * (x_vec.T @ diag @ x_vec)     # 3x3\n",
    "    return hess\n"
   ]
  },
  {
   "cell_type": "code",
   "execution_count": 9,
   "metadata": {},
   "outputs": [],
   "source": [
    "def cost(x_vec,y_vec,theta):\n",
    "    abs_error =  y_vec - (x_vec @ theta)\n",
    "    cost = (1.0/(2*len(x_vec)))* ( abs_error.T @ abs_error  )\n",
    "    #cost = (1.0/2)* ( abs_error.T @ abs_error  )\n",
    "    return cost[0][0]"
   ]
  },
  {
   "cell_type": "code",
   "execution_count": 10,
   "metadata": {},
   "outputs": [
    {
     "name": "stdout",
     "output_type": "stream",
     "text": [
      "0.25\n",
      "[[-2.50000000e+01  1.77635684e-15 -1.88737914e-15]\n",
      " [ 1.77635684e-15 -2.50000000e+01  1.23957811e+01]\n",
      " [-1.88737914e-15  1.23957811e+01 -2.50000000e+01]]\n"
     ]
    }
   ],
   "source": [
    "print(cost(x_vec,y_vec,theta))\n",
    "print(hessian(x_vec,y_vec,theta))"
   ]
  },
  {
   "cell_type": "code",
   "execution_count": 11,
   "metadata": {},
   "outputs": [
    {
     "name": "stdout",
     "output_type": "stream",
     "text": [
      "[[ 1.33223971e-16  8.97341408e-01 -9.20112283e-01]]\n",
      "[[ 0.0916248   1.54658764 -1.57249997]]\n",
      "[[ 0.22925374  2.10393545 -2.18620038]]\n",
      "[[ 0.35177461  2.46348281 -2.59033635]]\n",
      "[[ 0.39743593  2.57939935 -2.71602845]]\n",
      "[[ 0.40123187  2.58849794 -2.7255376 ]]\n",
      "[[ 0.40125316  2.5885477  -2.72558849]]\n",
      "[[ 0.40125316  2.5885477  -2.72558849]]\n",
      "[[ 0.40125316]\n",
      " [ 2.5885477 ]\n",
      " [-2.72558849]]\n",
      "8\n"
     ]
    }
   ],
   "source": [
    "#print(cost(x_vec,y_vec,theta))\n",
    "prev_theta = np.array([[0,0,0 ]])\n",
    "prev_theta = prev_theta.T\n",
    "curr_theta = np.array([[0,0,0 ]]).T\n",
    "# h_inverse = np.linalg.inv(hessian(x_vec,y_vec,theta))\n",
    "# curr_theta = prev_theta - h_inverse @ grad_J_theta(x_vec,y_vec,theta)\n",
    "# print(abs( prev_theta - curr_theta ))\n",
    "itr = 0\n",
    "while True:\n",
    "    \n",
    "    #print(hessian(x_vec,y_vec,theta))\n",
    "    #print(grad_J_theta(x_vec,y_vec,theta))\n",
    "    h_inverse = np.linalg.inv(hessian(x_vec,y_vec,curr_theta))\n",
    "    #print(grad_J_theta(x_vec,y_vec,theta))\n",
    "    \n",
    "    curr_theta = curr_theta - h_inverse @ grad_J_theta(x_vec,y_vec,curr_theta)\n",
    "    if abs( prev_theta - curr_theta ).all()<= 1e-1:\n",
    "        break;\n",
    "    prev_theta = curr_theta    \n",
    "    itr+=1\n",
    "    print(curr_theta.T)\n",
    "    #print((abs( prev_theta - curr_theta ).all()< 1e-15))\n",
    "    \n",
    "print(curr_theta)  \n",
    "print(itr)\n",
    "theta = curr_theta"
   ]
  },
  {
   "cell_type": "code",
   "execution_count": 12,
   "metadata": {},
   "outputs": [
    {
     "data": {
      "text/plain": [
       "<Figure size 640x480 with 1 Axes>"
      ]
     },
     "metadata": {},
     "output_type": "display_data"
    }
   ],
   "source": [
    "import matplotlib.pyplot as plt\n",
    "\n",
    "x0_class0 = x_vec[:50,1]\n",
    "x1_class0 = x_vec[:50,2]\n",
    "\n",
    "x0_class1 = x_vec[50:100,1]\n",
    "x1_class1 = x_vec[50:100,2]\n",
    "plt.scatter(x0_class0,x1_class0,color = 'red')\n",
    "plt.scatter(x0_class1,x1_class1,color='blue')\n",
    "plt.show()\n"
   ]
  },
  {
   "cell_type": "code",
   "execution_count": 13,
   "metadata": {},
   "outputs": [
    {
     "data": {
      "text/plain": [
       "<function matplotlib.pyplot.show(*args, **kw)>"
      ]
     },
     "execution_count": 13,
     "metadata": {},
     "output_type": "execute_result"
    },
    {
     "data": {
      "image/png": "[encoded data removed]",
      "text/plain": [
       "<Figure size 432x288 with 1 Axes>"
      ]
     },
     "metadata": {
      "needs_background": "light"
     },
     "output_type": "display_data"
    }
   ],
   "source": [
    "\n",
    "\n",
    "x_axis = np.linspace(-3,3,100)\n",
    "\n",
    "slope = - theta[1]/theta[2]\n",
    "intercept = -theta[0]/theta[2]\n",
    "y_axis = slope*x_axis + intercept\n",
    "\n",
    "plt.scatter(x0_class0,x1_class0,label=\"label 0\",color='red')\n",
    "plt.scatter(x0_class1,x1_class1,label=\"label 1\",color='blue')\n",
    "plt.plot(x_axis, y_axis, '-g', label='hypo')\n",
    "\n",
    "\n",
    "plt.xlabel(\"x1\")\n",
    "plt.ylabel(\"x2\")\n",
    "plt.legend()\n",
    "plt.show()"
   ]
  },
  {
   "cell_type": "code",
   "execution_count": null,
   "metadata": {},
   "outputs": [],
   "source": []
  },
  {
   "cell_type": "code",
   "execution_count": null,
   "metadata": {},
   "outputs": [],
   "source": []
  },
  {
   "cell_type": "code",
   "execution_count": null,
   "metadata": {},
   "outputs": [],
   "source": []
  },
  {
   "cell_type": "code",
   "execution_count": null,
   "metadata": {},
   "outputs": [],
   "source": []
  }
 ],
 "metadata": {
  "kernelspec": {
   "display_name": "Python 3",
   "language": "python",
   "name": "python3"
  },
  "language_info": {
   "codemirror_mode": {
    "name": "ipython",
    "version": 3
   },
   "file_extension": ".py",
   "mimetype": "text/x-python",
   "name": "python",
   "nbconvert_exporter": "python",
   "pygments_lexer": "ipython3",
   "version": "3.5.2"
  }
 },
 "nbformat": 4,
 "nbformat_minor": 4
}
